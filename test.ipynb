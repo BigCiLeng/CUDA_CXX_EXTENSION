{
 "cells": [
  {
   "cell_type": "code",
   "execution_count": 1,
   "metadata": {},
   "outputs": [],
   "source": [
    "import torch\n",
    "import cppcuda_tutorial\n",
    "import time"
   ]
  },
  {
   "cell_type": "code",
   "execution_count": 2,
   "metadata": {},
   "outputs": [],
   "source": [
    "from interpolation import trilinear_interpolation_py, Trilinear_interpolation_cuda\n",
    "# import interpolation"
   ]
  },
  {
   "cell_type": "code",
   "execution_count": 3,
   "metadata": {},
   "outputs": [],
   "source": [
    "N = 65536\n",
    "F = 256"
   ]
  },
  {
   "cell_type": "code",
   "execution_count": 4,
   "metadata": {},
   "outputs": [],
   "source": [
    "rand = torch.rand([N, 8, F]).cuda()\n",
    "feats = rand.clone().requires_grad_()\n",
    "feats2 = rand.clone().requires_grad_()\n",
    "points = torch.rand(N, 3).cuda() * 2 - 1"
   ]
  },
  {
   "cell_type": "code",
   "execution_count": 5,
   "metadata": {},
   "outputs": [
    {
     "name": "stdout",
     "output_type": "stream",
     "text": [
      "cuda forward time 0.002151012420654297 s\n"
     ]
    }
   ],
   "source": [
    "t = time.time()\n",
    "out_cuda = Trilinear_interpolation_cuda.apply(feats2, points)\n",
    "torch.cuda.synchronize()\n",
    "print('cuda forward time', time.time() - t, 's')"
   ]
  },
  {
   "cell_type": "code",
   "execution_count": 6,
   "metadata": {},
   "outputs": [
    {
     "name": "stdout",
     "output_type": "stream",
     "text": [
      "pytorch forward time 0.007079601287841797 s\n"
     ]
    }
   ],
   "source": [
    "t = time.time()\n",
    "out_py = trilinear_interpolation_py(feats, points)\n",
    "torch.cuda.synchronize()\n",
    "print(\"pytorch forward time\", time.time() -t, 's')"
   ]
  },
  {
   "cell_type": "code",
   "execution_count": 7,
   "metadata": {},
   "outputs": [
    {
     "name": "stdout",
     "output_type": "stream",
     "text": [
      "forward True\n"
     ]
    }
   ],
   "source": [
    "print('forward', torch.allclose(out_cuda, out_py))"
   ]
  },
  {
   "cell_type": "code",
   "execution_count": 8,
   "metadata": {},
   "outputs": [
    {
     "name": "stdout",
     "output_type": "stream",
     "text": [
      "cuda backward time 0.006810426712036133 s\n"
     ]
    }
   ],
   "source": [
    "'''\n",
    "Author: BigCiLeng && bigcileng@outlook.com\n",
    "Date: 2023-10-29 17:49:13\n",
    "LastEditors: BigCiLeng && bigcileng@outlook.com\n",
    "LastEditTime: 2023-10-29 19:01:11\n",
    "FilePath: \\cppcuda\\test.ipynb\n",
    "Description: \n",
    "\n",
    "Copyright (c) 2023 by bigcileng@outlook.com, All Rights Reserved. \n",
    "'''\n",
    "t = time.time()\n",
    "loss2 = out_cuda.sum()\n",
    "loss2.backward()\n",
    "torch.cuda.synchronize()\n",
    "print('cuda backward time', time.time() - t, 's')"
   ]
  },
  {
   "cell_type": "code",
   "execution_count": 9,
   "metadata": {},
   "outputs": [
    {
     "name": "stdout",
     "output_type": "stream",
     "text": [
      "pytorch backward time 0.03897571563720703 s\n"
     ]
    }
   ],
   "source": [
    "t = time.time()\n",
    "loss = out_py.sum()\n",
    "loss.backward()\n",
    "torch.cuda.synchronize()\n",
    "print('pytorch backward time', time.time() - t, 's')"
   ]
  },
  {
   "cell_type": "code",
   "execution_count": 10,
   "metadata": {},
   "outputs": [
    {
     "name": "stdout",
     "output_type": "stream",
     "text": [
      "backward True\n"
     ]
    }
   ],
   "source": [
    "print('backward', torch.allclose(feats.grad, feats2.grad))"
   ]
  }
 ],
 "metadata": {
  "kernelspec": {
   "display_name": "Python 3 (ipykernel)",
   "language": "python",
   "name": "python3"
  },
  "language_info": {
   "codemirror_mode": {
    "name": "ipython",
    "version": 3
   },
   "file_extension": ".py",
   "mimetype": "text/x-python",
   "name": "python",
   "nbconvert_exporter": "python",
   "pygments_lexer": "ipython3",
   "version": "3.10.13"
  }
 },
 "nbformat": 4,
 "nbformat_minor": 2
}
